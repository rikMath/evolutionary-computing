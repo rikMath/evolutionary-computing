{
 "cells": [
  {
   "cell_type": "markdown",
   "metadata": {},
   "source": [
    "# Introdução\n",
    "\n",
    "Neste trabalho procuramos criar um algoritmo **Algoritmo Evolucionário** para a resolução do problema das **N Rainhas**. O processo de descrição da construção do algoritmo, bem como as escolhas de parâmetros, serão descritos em detalhes para cada sessão do algoritmo.\n",
    "\n",
    "A forma do algoritmo final se baseia no pseudocódigo presente nos slides da disciplina e na bibliografia indicada, sendo ele o seguinte:\n",
    "\n",
    "<code>\n",
    "BEGIN\n",
    "\n",
    "\tINITIALISE population with random candidate solutions;\n",
    "\t\n",
    "\tEVALUATE each candidate;\n",
    "\n",
    "\tREPEAT UNTIL ( TERMINATION CONDITION is satisfied ) DO\n",
    "\t\t1 SELECT parents;\n",
    "\t\t2 RECOMBINE pairs of parents;\n",
    "\t\t3 MUTATE the resulting offspring;\n",
    "\t\t4 EVALUATE new candidates;\n",
    "\t\t5 SELECT individuals for the next generation;\n",
    "\tOD\n",
    "END\n",
    "\n",
    "<code>\n",
    "\n",
    "As três principais referências utilizadas na elaboração deste trabalho foram:\n",
    "- Introduction to evolutionary computing, A.E. Eiben and J.E. Smith, Springer, 2015.\n",
    "- Permutation-Based Evolutionary Algorithms for Multidimensional Knapsack Problems, Jens Gottlieb, Proceedings of the 2000 ACM symposium on Applied computing-Volume 1\n",
    "- Manual de Computação Evolutiva e Metaheurísticas, Antônio Gaspar-Cunha; Ricardo Takahashi; Carlos Henggeler Antunes, Editora UFMG, 2013."
   ]
  },
  {
   "cell_type": "code",
   "execution_count": 41,
   "metadata": {},
   "outputs": [],
   "source": [
    "import random as rd\n",
    "import numpy as np\n",
    "import matplotlib.pyplot as plt\n",
    "from itertools import product\n",
    "from pandas import Series\n"
   ]
  },
  {
   "cell_type": "markdown",
   "metadata": {},
   "source": [
    "# Criação da População e Parâmetros\n",
    "\n",
    "Para iniciar a **população**, por meio da representação exigida no relatório, será gerada aleatoriamente uma população de tamanho decidido arbitrariamente, em que cada indivíduo possui um número n de rainhas (uma para cade linha do tabuleiro)."
   ]
  },
  {
   "cell_type": "code",
   "execution_count": 42,
   "metadata": {},
   "outputs": [],
   "source": [
    "crossover_rate = 1\n",
    "mutation_rate = 0.1\n",
    "max_generations = 10000\n",
    "\n",
    "def init_population(_mu:int = 20, n:int = 8):\n",
    "    population = []\n",
    "    for i in range (_mu):\n",
    "        population.append(rd.sample(range(n), n))\n",
    "    return population"
   ]
  },
  {
   "cell_type": "markdown",
   "metadata": {},
   "source": [
    "# Função de Aptidão\n",
    "\n",
    "Definimos a **aptidão** como o número de xeques que as rainhas estão expostas. Vale notar que o objetivo do problema é **minimizar** a função de aptidão, para termos o menor número de xeques possíveis e, se possível, nenhum."
   ]
  },
  {
   "cell_type": "code",
   "execution_count": 43,
   "metadata": {},
   "outputs": [],
   "source": [
    "def fitness_nq(solution):\n",
    "    xeques = 0\n",
    "    for i in range(0,len(solution)):\n",
    "        for j in range(0,len(solution)):\n",
    "            if i!=j:\n",
    "                if i-solution[i] == j-solution[j] or i+solution[i] == j+solution[j]:\n",
    "                    xeques+=1\n",
    "    return xeques"
   ]
  },
  {
   "cell_type": "markdown",
   "metadata": {},
   "source": [
    "# Mutação da Solução (Swap)\n",
    "\n",
    "Realizamos a **mutação** utilizando a técnica de **Swap**. Para isso, escolhemos aleatoriamente duas posições do vetor de representação do indivíduo e trocamos seus valores.\n",
    "> **Exemplo:** Caso tenhamos escolhido as posições 2 e 4 para o vetor [0,1,2,3,4,5,6,7], teremos a mutação [0,1,4,3,2,5,6,7]."
   ]
  },
  {
   "cell_type": "code",
   "execution_count": 44,
   "metadata": {},
   "outputs": [],
   "source": [
    "def mutate_solution_swap(solution):\n",
    "    to_swap_lines = rd.sample(range(0,len(solution)), 2)\n",
    "    solution[to_swap_lines[0]], solution[to_swap_lines[1]] = solution[to_swap_lines[1]], solution[to_swap_lines[0]]"
   ]
  },
  {
   "cell_type": "markdown",
   "metadata": {},
   "source": [
    "# Mutação da Solução (Insert)\n",
    "\n",
    "Realizamos a **mutação** utilizando a técnica de **Insert**. Para isso, escolhemos aleatoriamente um gene da solução candidata e o movemos para uma nova posição aleatória.\n",
    "> **Exemplo:** Caso tenhamos escolhido as posições o gene 6 para a posição do vetor [0,1,2,3,4,5,6,7], teremos a mutação [0,1,6,2,3,4,5,7]."
   ]
  },
  {
   "cell_type": "code",
   "execution_count": 45,
   "metadata": {},
   "outputs": [],
   "source": [
    "def mutate_solution_insert(solution):\n",
    "    line = rd.choice(range(0,len(solution)))\n",
    "    gene = rd.choice(solution)\n",
    "    gene_current_index = solution.index(gene)\n",
    "    solution.pop(gene_current_index)\n",
    "    solution.insert(line, gene)"
   ]
  },
  {
   "cell_type": "markdown",
   "metadata": {},
   "source": [
    "# Inversão\n",
    "\n",
    "Este é um operador pouco utilizado em contextos práticos, porém foi proposto por John Holland em seu livro \"Adaptation in Natural and Artificial Systems\".\n",
    "\n",
    "Realizamos a **inversão** escolhendo aleatoriamente duas posições do vetor de representação do indivíduo e invertendo os valores entre elas.\n",
    "\n",
    "> **Observação:** A inversão pode ser considerada como um *crossover* de uma solução consigo mesma."
   ]
  },
  {
   "cell_type": "code",
   "execution_count": 46,
   "metadata": {},
   "outputs": [],
   "source": [
    "def inversion(pop):\n",
    "    inversion_rate = 0.1\n",
    "\n",
    "    for solution in pop:\n",
    "        if rd.random() < inversion_rate:\n",
    "            to_swap_lines = rd.sample(range(0,len(solution)), 2)\n",
    "            x1, x2 = min(to_swap_lines), max(to_swap_lines)\n",
    "            solution[x1:x2] = solution[x1:x2][::-1]"
   ]
  },
  {
   "cell_type": "markdown",
   "metadata": {},
   "source": [
    "# Seleção dos Pais\n",
    "\n",
    "Para a **seleção dos pais**, utilizamos um método de **Torneio** alternativo. Neste método, escolhemos aleatoriamente cinco indivíduos da população e selecionamos os dois que possuem a menor função de aptidão como pais."
   ]
  },
  {
   "cell_type": "markdown",
   "metadata": {},
   "source": [
    "# Recombinação (Cut-and-crossﬁll)\n",
    "\n",
    "Realizamos a **recombinação** utilizando a técnica de **Cut-and-crossﬁll**. Esse método irá criar dois filhos, cada um deles irá possuir uma parte inicial do vetor de um pai e irá 'retirar' os outros valores, que ainda não possui, do outro pai.\n",
    "\n",
    "> Obs: As explicações de cada parte da técnica utilizada podem ser encontradas nos comentários dentro da própria função presente abaixo"
   ]
  },
  {
   "cell_type": "code",
   "execution_count": 47,
   "metadata": {},
   "outputs": [],
   "source": [
    "def recombine_cut_and_crossfil(population):\n",
    "    # Escolha de 5 possíveis pais aleatoriamente\n",
    "    random_possible_parents = [population[i] for i in rd.sample(range(0,len(population)), 5)]\n",
    "\n",
    "    # Melhores duas possíveis soluções para pais\n",
    "    best_possible_parents_indexes = np.argpartition([fitness_nq(sol) for sol in random_possible_parents] ,2)[:2]\n",
    "    parent_1 = random_possible_parents[best_possible_parents_indexes[0]]\n",
    "    parent_2 = random_possible_parents[best_possible_parents_indexes[1]]\n",
    "    \n",
    "    # Ter ao menos 1 elemento de cada pai para cada filho e preencher os filhos (inicialmente)\n",
    "    first_section_cut_index = rd.choice(range(0, len(parent_1)-1))\n",
    "    \n",
    "    child_1 = np.zeros(len(parent_1))\n",
    "    child_2 = np.zeros(len(parent_2))\n",
    "    \n",
    "    child_1[:first_section_cut_index+1] = parent_1[:first_section_cut_index+1]\n",
    "    child_2[:first_section_cut_index+1] = parent_2[:first_section_cut_index+1]\n",
    "    \n",
    "    # Preenchendo o resto dos vetores filhos com as soluções dos próximos pais\n",
    "    current_child_index = first_section_cut_index\n",
    "    \n",
    "    for value in parent_2:\n",
    "        if current_child_index >= len(child_1)-1:\n",
    "            break\n",
    "        if value in child_1:\n",
    "            continue\n",
    "            \n",
    "        child_1[current_child_index+1] = value\n",
    "            \n",
    "        current_child_index += 1\n",
    "        \n",
    "        \n",
    "    current_child_index = first_section_cut_index\n",
    "        \n",
    "    for value in parent_1:\n",
    "        if current_child_index >= len(child_2)-1:\n",
    "            break\n",
    "        if value in child_2:\n",
    "            continue\n",
    "            \n",
    "        child_2[current_child_index+1] = value\n",
    "            \n",
    "        current_child_index += 1\n",
    "        \n",
    "    child_1 = [int(x) for x in child_1]\n",
    "    child_2 = [int(x) for x in child_2]\n",
    "        \n",
    "    return child_1, child_2\n",
    "\n"
   ]
  },
  {
   "cell_type": "markdown",
   "metadata": {},
   "source": [
    "# Recombinação (Uniform order based crossover)\n",
    "\n",
    "Na técnica de **Uniform order based crossover** sugerida por Davis em \"Handbook of Genetic Algorithms\", tenta simular a técnica de recombinação probabilistica em representações binárias. Para isso, é realizada a escolha de um gene para acrescentar ao filho a partir do primeiro pai com uma probabilidade de 50%. Ao terminar de selecionar os genes do primeiro pai, os genes restantes são adicionados ao filho a partir do segundo pai."
   ]
  },
  {
   "cell_type": "code",
   "execution_count": 48,
   "metadata": {},
   "outputs": [],
   "source": [
    "def recombine_uniform_order_based_crossover(population):\n",
    "    # Escolha de 5 possíveis pais aleatoriamente\n",
    "    random_possible_parents = [population[i] for i in rd.sample(range(0,len(population)), 5)]\n",
    "\n",
    "    # Melhores duas possíveis soluções para pais\n",
    "    best_possible_parents_indexes = np.argpartition([fitness_nq(sol) for sol in random_possible_parents] ,2)[:2]\n",
    "    parent_1 = random_possible_parents[best_possible_parents_indexes[0]]\n",
    "    parent_2 = random_possible_parents[best_possible_parents_indexes[1]]\n",
    "    \n",
    "    # Criação dos filhos vazios\n",
    "    \n",
    "    child_1 = np.zeros(len(parent_1))\n",
    "    child_2 = np.zeros(len(parent_2))\n",
    "\n",
    "    child_1_index = 0\n",
    "    child_2_index = 0\n",
    "    \n",
    "    # Escolhendo os elementos a serem inseridos nos filhos\n",
    "    for value in parent_1:\n",
    "        if rd.random() < 0.5:\n",
    "            child_1[child_1_index] = value\n",
    "            \n",
    "            child_1_index += 1\n",
    "\n",
    "    for value in parent_2:\n",
    "        if rd.random() < 0.5:\n",
    "            child_2[child_2_index] = value\n",
    "            \n",
    "            child_2_index += 1\n",
    "\n",
    "    # Preenchendo os filhos com os elementos restantes\n",
    "    for value in parent_2:\n",
    "        if value not in child_1:\n",
    "            child_1[child_1_index] = value\n",
    "            child_1_index += 1\n",
    "\n",
    "    for value in parent_1:\n",
    "        if value not in child_2:\n",
    "            child_2[child_2_index] = value\n",
    "            child_2_index += 1\n",
    "        \n",
    "    child_1 = [int(x) for x in child_1]\n",
    "    child_2 = [int(x) for x in child_2]\n",
    "        \n",
    "    return child_1, child_2\n",
    "\n"
   ]
  },
  {
   "cell_type": "markdown",
   "metadata": {},
   "source": [
    "# Escolha de Mutações\n",
    "\n",
    "Realizamos com **10%** de chance a **mutação** para cada um dos dois filhos."
   ]
  },
  {
   "cell_type": "code",
   "execution_count": 49,
   "metadata": {},
   "outputs": [],
   "source": [
    "def mutate_childs(child_1, child_2, mutation_operator):\n",
    "    # Mutações em 10% das vezes para cada filho\n",
    "    \n",
    "    if rd.uniform(0, 1) < mutation_rate:\n",
    "        mutation_operator(child_1)\n",
    "        \n",
    "    if rd.uniform(0, 1) < mutation_rate:\n",
    "        mutation_operator(child_2)"
   ]
  },
  {
   "cell_type": "markdown",
   "metadata": {},
   "source": [
    "# Seleção de Candidatos\n",
    "\n",
    "A **população** que continuará será referente aos n-2 indivíduos, após a inserção dos 2 filhos, que melhor se adaptam ao problema, ou seja, os 2  indivíduos com os piores valores de aptidão serão retirados da população."
   ]
  },
  {
   "cell_type": "code",
   "execution_count": 50,
   "metadata": {},
   "outputs": [],
   "source": [
    "def select_new_population(pop, child_1, child_2):\n",
    "    # Retirando piores duas soluções da nova população\n",
    "    \n",
    "    pop.append(child_1)\n",
    "    pop.append(child_2)\n",
    "    \n",
    "    elements_indexes_to_pop = np.argpartition([fitness_nq(sol) for sol in pop], -2)[-2:]\n",
    "    \n",
    "    for index in sorted(elements_indexes_to_pop, reverse=True):\n",
    "        del pop[index]\n",
    "    \n",
    "    return pop"
   ]
  },
  {
   "cell_type": "markdown",
   "metadata": {},
   "source": [
    "# Encontrar a Solução\n",
    "Uma função que nos permite realizar o processo de um **Algoritmo Evolucionário** de forma simples, sendo necessário escolher apenas a quantidade de indivíduos na população e quantas rainhas devem existir no tabuleiro. O formato do código se baseia no pseudocódigo descrito na Introdução."
   ]
  },
  {
   "cell_type": "code",
   "execution_count": 51,
   "metadata": {},
   "outputs": [],
   "source": [
    "def find_best_solution(_mu, n, recombine_operator, mutation_operator, inversion_operator=None):\n",
    "    pop = init_population(_mu, n)\n",
    "\n",
    "    current_generation = 0\n",
    "    fitness_pop_vectors = []\n",
    "\n",
    "    while True:\n",
    "        fitness_pop = [fitness_nq(sol) for sol in pop]\n",
    "        fitness_pop_vectors.append(min(fitness_pop))\n",
    "\n",
    "        if 0 in fitness_pop or current_generation >= max_generations:\n",
    "            break\n",
    "\n",
    "        if inversion_operator is not None:\n",
    "            inversion_operator(pop)\n",
    "\n",
    "        child_1, child_2 = recombine_operator(pop)\n",
    "\n",
    "        mutate_childs(child_1, child_2, mutation_operator)\n",
    "\n",
    "        pop = select_new_population(pop, child_1, child_2)\n",
    "\n",
    "        current_generation += 1\n",
    "\n",
    "    best_solution = pop[np.argmin(fitness_pop)]\n",
    "    \n",
    "    best_solution_fitness = min(fitness_pop)\n",
    "    \n",
    "    return best_solution, best_solution_fitness, current_generation, fitness_pop_vectors"
   ]
  },
  {
   "cell_type": "code",
   "execution_count": 52,
   "metadata": {},
   "outputs": [],
   "source": [
    "mutation_operators = [mutate_solution_swap, mutate_solution_insert]\n",
    "inversion_operators = [inversion, None]\n",
    "crossover_operators = [recombine_cut_and_crossfil, recombine_uniform_order_based_crossover]\n",
    "\n",
    "mutation_operators_names = [\"Swap\", \"Insert\"]\n",
    "inversion_operators_names = [\"Inversion\", \"Não Aplicado\"]\n",
    "crossover_operators_names = [\"Cut and Crossfil\", \"Uniform Order Based Crossover\"]\n",
    "\n",
    "operators_possibilites_tuple = list(product(enumerate(mutation_operators), enumerate(inversion_operators), enumerate(crossover_operators)))\n",
    "\n",
    "operators_possibilites = [[x[1] for x in possibility] for possibility in operators_possibilites_tuple]\n",
    "operators_possibilites_names = [[mutation_operators_names[possibility[0][0]], inversion_operators_names[possibility[1][0]], crossover_operators_names[possibility[2][0]]] for possibility in operators_possibilites_tuple]"
   ]
  },
  {
   "cell_type": "code",
   "execution_count": 53,
   "metadata": {},
   "outputs": [
    {
     "name": "stdout",
     "output_type": "stream",
     "text": [
      "Mutação: Swap - Inversão: Inversion - Recombinação: Cut and Crossfil:\n",
      "Média:  174.64\n",
      "Desvio Padrão:  348.13963064299713\n",
      "\n",
      "\n",
      "\n",
      "Mutação: Swap - Inversão: Inversion - Recombinação: Uniform Order Based Crossover:\n",
      "Média:  65.74\n",
      "Desvio Padrão:  57.205745985323645\n",
      "\n",
      "\n",
      "\n",
      "Mutação: Swap - Inversão: Não Aplicado - Recombinação: Cut and Crossfil:\n",
      "Média:  4011.88\n",
      "Desvio Padrão:  4446.442959890022\n",
      "\n",
      "\n",
      "\n",
      "Mutação: Swap - Inversão: Não Aplicado - Recombinação: Uniform Order Based Crossover:\n",
      "Média:  189.36\n",
      "Desvio Padrão:  229.57670842336134\n",
      "\n",
      "\n",
      "\n",
      "Mutação: Insert - Inversão: Inversion - Recombinação: Cut and Crossfil:\n",
      "Média:  225.21\n",
      "Desvio Padrão:  415.69645333239396\n",
      "\n",
      "\n",
      "\n",
      "Mutação: Insert - Inversão: Inversion - Recombinação: Uniform Order Based Crossover:\n",
      "Média:  72.1\n",
      "Desvio Padrão:  62.41948349026861\n",
      "\n",
      "\n",
      "\n",
      "Mutação: Insert - Inversão: Não Aplicado - Recombinação: Cut and Crossfil:\n",
      "Média:  3471.65\n",
      "Desvio Padrão:  4415.398856058285\n",
      "\n",
      "\n",
      "\n",
      "Mutação: Insert - Inversão: Não Aplicado - Recombinação: Uniform Order Based Crossover:\n",
      "Média:  214.02\n",
      "Desvio Padrão:  257.69114627531707\n",
      "\n",
      "\n",
      "\n"
     ]
    }
   ],
   "source": [
    "analysis = dict()\n",
    "\n",
    "operator_possibility = 0\n",
    "for mutation_operator, inversion_operator, crossover_operator in operators_possibilites:\n",
    "    generations_to_find_best_solution = []\n",
    "    for i in range(100):\n",
    "        _, _, current_generation, _ = find_best_solution(20, 8, crossover_operator, mutation_operator, inversion_operator)\n",
    "        generations_to_find_best_solution.append(current_generation)\n",
    "    generations_to_find_best_solution = Series(generations_to_find_best_solution)\n",
    "\n",
    "    analysis[\n",
    "        f'Mutação: {operators_possibilites_names[operator_possibility][0]} - Inversão: {operators_possibilites_names[operator_possibility][1]} - Recombinação: {operators_possibilites_names[operator_possibility][2]}'] = generations_to_find_best_solution.describe()\n",
    "\n",
    "    operator_possibility += 1\n",
    "\n",
    "for key, value in analysis.items():\n",
    "    print(f'{key}:')\n",
    "    print(\"Média: \", value['mean'])\n",
    "    print(\"Desvio Padrão: \", value['std'])\n",
    "    print('\\n\\n')"
   ]
  },
  {
   "cell_type": "markdown",
   "metadata": {},
   "source": [
    "# Conclusão\n",
    "\n",
    "Algumas conclusões são facilmente retiradas das aplicações aqui realizadas. A primeira delas é que o Algoritmo Evolucionário, em especial o Algoritmo Genético, é uma técnica muito poderosa para a resolução de problemas complexos, como o das N Rainhas.\n",
    "\n",
    "A utilização do operador de inversão adicionou uma nova possibilidade de exploração do espaço de busca, porém, como esperado, porém não mostrou melhorias suficientemente significativas a ponto de ser escolhido ao invés de operadores de mutação mais complexos, porém com o uso de operadores de mutação simples como os aqui apresentados mostrou-se uma alternativa interessante que conseguiu melhorar a solução.\n",
    "\n",
    "O operador de recombinação Uniform order based crossover se mostrou mais eficiente que o Cut-and-crossfill para o problema das N Rainhas. Tal fato provavelmente decorre de o Uniform order based crossover “perder” a informação de posição das rainhas, explorando mais rapidamente o espaço de busca.\n",
    "\n",
    "Por fim, o operador de mutação que gerou resultados mais satisfatórios foi o Swap, seguido pelo Insert. Apesar disto, a melhora foi marginal e conclusões exatas não podem ser tiradas deste fato.\n"
   ]
  }
 ],
 "metadata": {
  "kernelspec": {
   "display_name": "Python 3",
   "language": "python",
   "name": "python3"
  },
  "language_info": {
   "codemirror_mode": {
    "name": "ipython",
    "version": 3
   },
   "file_extension": ".py",
   "mimetype": "text/x-python",
   "name": "python",
   "nbconvert_exporter": "python",
   "pygments_lexer": "ipython3",
   "version": "3.9.18"
  }
 },
 "nbformat": 4,
 "nbformat_minor": 4
}
